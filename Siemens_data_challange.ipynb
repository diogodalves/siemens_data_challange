{
 "cells": [
  {
   "cell_type": "code",
   "execution_count": 301,
   "id": "aa247694",
   "metadata": {},
   "outputs": [],
   "source": [
    "import pandas as pd\n",
    "import matplotlib.pyplot as plt\n",
    "import seaborn as sns\n",
    "import numpy as np"
   ]
  },
  {
   "cell_type": "markdown",
   "id": "2210a730",
   "metadata": {},
   "source": [
    "# Exploratory Data Analysis"
   ]
  },
  {
   "cell_type": "markdown",
   "id": "180e9926",
   "metadata": {},
   "source": [
    "## The introduction"
   ]
  },
  {
   "cell_type": "markdown",
   "id": "216a19a0",
   "metadata": {},
   "source": [
    "Let's start this challange by inspecting our Dataset, regarding:\n",
    "- Data Types\n",
    "- Dataset Variables (Continuous/Discrete or Categorical)\n",
    "- Size and Shape\n",
    "- Missing and Dupicates Verification"
   ]
  },
  {
   "cell_type": "code",
   "execution_count": 302,
   "id": "e5fbd07e",
   "metadata": {},
   "outputs": [],
   "source": [
    "df = pd.read_csv('accounting_dataset.csv')"
   ]
  },
  {
   "cell_type": "code",
   "execution_count": 303,
   "id": "b1613dec",
   "metadata": {},
   "outputs": [
    {
     "data": {
      "text/html": [
       "<div>\n",
       "<style scoped>\n",
       "    .dataframe tbody tr th:only-of-type {\n",
       "        vertical-align: middle;\n",
       "    }\n",
       "\n",
       "    .dataframe tbody tr th {\n",
       "        vertical-align: top;\n",
       "    }\n",
       "\n",
       "    .dataframe thead th {\n",
       "        text-align: right;\n",
       "    }\n",
       "</style>\n",
       "<table border=\"1\" class=\"dataframe\">\n",
       "  <thead>\n",
       "    <tr style=\"text-align: right;\">\n",
       "      <th></th>\n",
       "      <th>BELNR</th>\n",
       "      <th>WAERS</th>\n",
       "      <th>BUKRS</th>\n",
       "      <th>KTOSL</th>\n",
       "      <th>PRCTR</th>\n",
       "      <th>BSCHL</th>\n",
       "      <th>HKONT</th>\n",
       "      <th>DMBTR</th>\n",
       "      <th>WRBTR</th>\n",
       "      <th>label</th>\n",
       "    </tr>\n",
       "  </thead>\n",
       "  <tbody>\n",
       "    <tr>\n",
       "      <th>0</th>\n",
       "      <td>288203</td>\n",
       "      <td>C3</td>\n",
       "      <td>C31</td>\n",
       "      <td>C9</td>\n",
       "      <td>C92</td>\n",
       "      <td>A3</td>\n",
       "      <td>B1</td>\n",
       "      <td>280979.60</td>\n",
       "      <td>0.00</td>\n",
       "      <td>regular</td>\n",
       "    </tr>\n",
       "    <tr>\n",
       "      <th>1</th>\n",
       "      <td>324441</td>\n",
       "      <td>C1</td>\n",
       "      <td>C18</td>\n",
       "      <td>C7</td>\n",
       "      <td>C76</td>\n",
       "      <td>A1</td>\n",
       "      <td>B2</td>\n",
       "      <td>129856.53</td>\n",
       "      <td>243343.00</td>\n",
       "      <td>regular</td>\n",
       "    </tr>\n",
       "    <tr>\n",
       "      <th>2</th>\n",
       "      <td>133537</td>\n",
       "      <td>C1</td>\n",
       "      <td>C19</td>\n",
       "      <td>C2</td>\n",
       "      <td>C20</td>\n",
       "      <td>A1</td>\n",
       "      <td>B3</td>\n",
       "      <td>957463.97</td>\n",
       "      <td>3183838.41</td>\n",
       "      <td>regular</td>\n",
       "    </tr>\n",
       "    <tr>\n",
       "      <th>3</th>\n",
       "      <td>331521</td>\n",
       "      <td>C4</td>\n",
       "      <td>C48</td>\n",
       "      <td>C9</td>\n",
       "      <td>C95</td>\n",
       "      <td>A2</td>\n",
       "      <td>B1</td>\n",
       "      <td>2681709.51</td>\n",
       "      <td>28778.00</td>\n",
       "      <td>regular</td>\n",
       "    </tr>\n",
       "    <tr>\n",
       "      <th>4</th>\n",
       "      <td>375333</td>\n",
       "      <td>C5</td>\n",
       "      <td>C58</td>\n",
       "      <td>C1</td>\n",
       "      <td>C19</td>\n",
       "      <td>A3</td>\n",
       "      <td>B1</td>\n",
       "      <td>910514.49</td>\n",
       "      <td>346.00</td>\n",
       "      <td>regular</td>\n",
       "    </tr>\n",
       "  </tbody>\n",
       "</table>\n",
       "</div>"
      ],
      "text/plain": [
       "    BELNR WAERS BUKRS KTOSL PRCTR BSCHL HKONT       DMBTR       WRBTR    label\n",
       "0  288203    C3   C31    C9   C92    A3    B1   280979.60        0.00  regular\n",
       "1  324441    C1   C18    C7   C76    A1    B2   129856.53   243343.00  regular\n",
       "2  133537    C1   C19    C2   C20    A1    B3   957463.97  3183838.41  regular\n",
       "3  331521    C4   C48    C9   C95    A2    B1  2681709.51    28778.00  regular\n",
       "4  375333    C5   C58    C1   C19    A3    B1   910514.49      346.00  regular"
      ]
     },
     "execution_count": 303,
     "metadata": {},
     "output_type": "execute_result"
    }
   ],
   "source": [
    "df.head()"
   ]
  },
  {
   "cell_type": "code",
   "execution_count": 304,
   "id": "59b8eb72",
   "metadata": {},
   "outputs": [
    {
     "name": "stdout",
     "output_type": "stream",
     "text": [
      "<class 'pandas.core.frame.DataFrame'>\n",
      "RangeIndex: 533009 entries, 0 to 533008\n",
      "Data columns (total 10 columns):\n",
      " #   Column  Non-Null Count   Dtype  \n",
      "---  ------  --------------   -----  \n",
      " 0   BELNR   533009 non-null  int64  \n",
      " 1   WAERS   533009 non-null  object \n",
      " 2   BUKRS   533009 non-null  object \n",
      " 3   KTOSL   533009 non-null  object \n",
      " 4   PRCTR   533009 non-null  object \n",
      " 5   BSCHL   533009 non-null  object \n",
      " 6   HKONT   533009 non-null  object \n",
      " 7   DMBTR   533009 non-null  float64\n",
      " 8   WRBTR   533009 non-null  float64\n",
      " 9   label   533009 non-null  object \n",
      "dtypes: float64(2), int64(1), object(7)\n",
      "memory usage: 40.7+ MB\n"
     ]
    }
   ],
   "source": [
    "df.info()"
   ]
  },
  {
   "cell_type": "code",
   "execution_count": 305,
   "id": "dcc243be",
   "metadata": {},
   "outputs": [
    {
     "data": {
      "text/plain": [
       "(533009, 10)"
      ]
     },
     "execution_count": 305,
     "metadata": {},
     "output_type": "execute_result"
    }
   ],
   "source": [
    "df.shape"
   ]
  },
  {
   "cell_type": "code",
   "execution_count": 306,
   "id": "646e5c38",
   "metadata": {},
   "outputs": [
    {
     "data": {
      "text/plain": [
       "0"
      ]
     },
     "execution_count": 306,
     "metadata": {},
     "output_type": "execute_result"
    }
   ],
   "source": [
    "df.isna().sum().sum()"
   ]
  },
  {
   "cell_type": "code",
   "execution_count": 307,
   "id": "23130907",
   "metadata": {},
   "outputs": [
    {
     "data": {
      "text/html": [
       "<div>\n",
       "<style scoped>\n",
       "    .dataframe tbody tr th:only-of-type {\n",
       "        vertical-align: middle;\n",
       "    }\n",
       "\n",
       "    .dataframe tbody tr th {\n",
       "        vertical-align: top;\n",
       "    }\n",
       "\n",
       "    .dataframe thead th {\n",
       "        text-align: right;\n",
       "    }\n",
       "</style>\n",
       "<table border=\"1\" class=\"dataframe\">\n",
       "  <thead>\n",
       "    <tr style=\"text-align: right;\">\n",
       "      <th></th>\n",
       "      <th>BELNR</th>\n",
       "      <th>WAERS</th>\n",
       "      <th>BUKRS</th>\n",
       "      <th>KTOSL</th>\n",
       "      <th>PRCTR</th>\n",
       "      <th>BSCHL</th>\n",
       "      <th>HKONT</th>\n",
       "      <th>DMBTR</th>\n",
       "      <th>WRBTR</th>\n",
       "      <th>label</th>\n",
       "    </tr>\n",
       "  </thead>\n",
       "  <tbody>\n",
       "  </tbody>\n",
       "</table>\n",
       "</div>"
      ],
      "text/plain": [
       "Empty DataFrame\n",
       "Columns: [BELNR, WAERS, BUKRS, KTOSL, PRCTR, BSCHL, HKONT, DMBTR, WRBTR, label]\n",
       "Index: []"
      ]
     },
     "execution_count": 307,
     "metadata": {},
     "output_type": "execute_result"
    }
   ],
   "source": [
    "df[df.duplicated()]"
   ]
  },
  {
   "cell_type": "markdown",
   "id": "dd4d3ee2",
   "metadata": {},
   "source": [
    "- Nice Dataset! There are neither missing or duplicates in it.\n",
    "- There are not many variables (only 9 as said in the prior pdf)\n",
    "- Several categorical feature and few continuous ones\n",
    "- Half million records seems great! :D"
   ]
  },
  {
   "cell_type": "markdown",
   "id": "4f3183ee",
   "metadata": {},
   "source": [
    "## Data Understanding"
   ]
  },
  {
   "cell_type": "markdown",
   "id": "41fd594a",
   "metadata": {},
   "source": [
    "Let's gain some knowledge about the data and the problem itselt.\n",
    "This is one of the most crucial phases of the challenge.\n",
    "In this phase I like to make some aggregations over categorical data, and after that plot some visual graphs and check the distributions, correlations and try to find some patterns."
   ]
  },
  {
   "cell_type": "markdown",
   "id": "160eab2e",
   "metadata": {},
   "source": [
    "### Continuous Variables"
   ]
  },
  {
   "cell_type": "markdown",
   "id": "bf35e5d8",
   "metadata": {},
   "source": [
    "- statistical descriptives about the continuous data\n",
    "- look for outliers\n",
    "- check data distribution"
   ]
  },
  {
   "cell_type": "code",
   "execution_count": 308,
   "id": "d6aad7a0",
   "metadata": {},
   "outputs": [
    {
     "data": {
      "text/html": [
       "<div>\n",
       "<style scoped>\n",
       "    .dataframe tbody tr th:only-of-type {\n",
       "        vertical-align: middle;\n",
       "    }\n",
       "\n",
       "    .dataframe tbody tr th {\n",
       "        vertical-align: top;\n",
       "    }\n",
       "\n",
       "    .dataframe thead th {\n",
       "        text-align: right;\n",
       "    }\n",
       "</style>\n",
       "<table border=\"1\" class=\"dataframe\">\n",
       "  <thead>\n",
       "    <tr style=\"text-align: right;\">\n",
       "      <th></th>\n",
       "      <th>DMBTR</th>\n",
       "      <th>WRBTR</th>\n",
       "    </tr>\n",
       "  </thead>\n",
       "  <tbody>\n",
       "    <tr>\n",
       "      <th>count</th>\n",
       "      <td>5.330090e+05</td>\n",
       "      <td>5.330090e+05</td>\n",
       "    </tr>\n",
       "    <tr>\n",
       "      <th>mean</th>\n",
       "      <td>9.226683e+05</td>\n",
       "      <td>6.226000e+04</td>\n",
       "    </tr>\n",
       "    <tr>\n",
       "      <th>std</th>\n",
       "      <td>2.152291e+06</td>\n",
       "      <td>8.117304e+05</td>\n",
       "    </tr>\n",
       "    <tr>\n",
       "      <th>min</th>\n",
       "      <td>2.600000e+00</td>\n",
       "      <td>0.000000e+00</td>\n",
       "    </tr>\n",
       "    <tr>\n",
       "      <th>25%</th>\n",
       "      <td>2.159392e+05</td>\n",
       "      <td>0.000000e+00</td>\n",
       "    </tr>\n",
       "    <tr>\n",
       "      <th>50%</th>\n",
       "      <td>4.864455e+05</td>\n",
       "      <td>0.000000e+00</td>\n",
       "    </tr>\n",
       "    <tr>\n",
       "      <th>75%</th>\n",
       "      <td>9.752580e+05</td>\n",
       "      <td>2.631600e+04</td>\n",
       "    </tr>\n",
       "    <tr>\n",
       "      <th>max</th>\n",
       "      <td>9.244554e+07</td>\n",
       "      <td>5.958506e+07</td>\n",
       "    </tr>\n",
       "  </tbody>\n",
       "</table>\n",
       "</div>"
      ],
      "text/plain": [
       "              DMBTR         WRBTR\n",
       "count  5.330090e+05  5.330090e+05\n",
       "mean   9.226683e+05  6.226000e+04\n",
       "std    2.152291e+06  8.117304e+05\n",
       "min    2.600000e+00  0.000000e+00\n",
       "25%    2.159392e+05  0.000000e+00\n",
       "50%    4.864455e+05  0.000000e+00\n",
       "75%    9.752580e+05  2.631600e+04\n",
       "max    9.244554e+07  5.958506e+07"
      ]
     },
     "execution_count": 308,
     "metadata": {},
     "output_type": "execute_result"
    }
   ],
   "source": [
    "df[['DMBTR','WRBTR']].describe()"
   ]
  },
  {
   "cell_type": "code",
   "execution_count": 309,
   "id": "45da26f6",
   "metadata": {},
   "outputs": [
    {
     "data": {
      "text/plain": [
       "<AxesSubplot:>"
      ]
     },
     "execution_count": 309,
     "metadata": {},
     "output_type": "execute_result"
    },
    {
     "data": {
      "image/png": "[encoded data removed]",
      "text/plain": [
       "<Figure size 432x288 with 1 Axes>"
      ]
     },
     "metadata": {
      "needs_background": "light"
     },
     "output_type": "display_data"
    }
   ],
   "source": [
    "df.boxplot(column=['DMBTR', 'DMBTR']) "
   ]
  },
  {
   "cell_type": "code",
   "execution_count": 313,
   "id": "b6ee5cf4",
   "metadata": {},
   "outputs": [],
   "source": [
    "Q1 = df[['DMBTR','WRBTR']].quantile(0.25)\n",
    "Q3 = df[['DMBTR','WRBTR']].quantile(0.75)\n",
    "IQR = Q3 - Q1"
   ]
  },
  {
   "cell_type": "code",
   "execution_count": 312,
   "id": "50c9bd6d",
   "metadata": {},
   "outputs": [
    {
     "data": {
      "text/plain": [
       "DMBTR    39835\n",
       "WRBTR    79920\n",
       "dtype: int64"
      ]
     },
     "execution_count": 312,
     "metadata": {},
     "output_type": "execute_result"
    }
   ],
   "source": [
    "# Let's count outliers for each continuous variable\n",
    "((df[['DMBTR','WRBTR']] < (Q1 - 1.5 * IQR)) | (df[['DMBTR','WRBTR']] > (Q3 + 1.5 * IQR))).sum()"
   ]
  },
  {
   "cell_type": "code",
   "execution_count": 314,
   "id": "2b15f063",
   "metadata": {},
   "outputs": [],
   "source": [
    "outliers = ((df[['DMBTR','WRBTR']] < (Q1 - 1.5 * IQR)) | (df[['DMBTR','WRBTR']] > (Q3 + 1.5 * IQR)))"
   ]
  },
  {
   "cell_type": "code",
   "execution_count": 315,
   "id": "9dafe94b",
   "metadata": {},
   "outputs": [],
   "source": [
    "outliers_DMBTR = list(outliers[outliers['DMBTR'] == True].index)\n",
    "outliers_WRBTR = list(outliers[outliers['WRBTR'] == True].index)"
   ]
  },
  {
   "cell_type": "code",
   "execution_count": 316,
   "id": "08821b25",
   "metadata": {},
   "outputs": [
    {
     "data": {
      "text/plain": [
       "79920"
      ]
     },
     "execution_count": 316,
     "metadata": {},
     "output_type": "execute_result"
    }
   ],
   "source": [
    "len(outliers_WRBTR)"
   ]
  },
  {
   "cell_type": "code",
   "execution_count": 317,
   "id": "a1349681",
   "metadata": {},
   "outputs": [],
   "source": [
    "outliers_idx_lst = outliers_WRBTR.copy()"
   ]
  },
  {
   "cell_type": "code",
   "execution_count": 318,
   "id": "0230f216",
   "metadata": {},
   "outputs": [],
   "source": [
    "# Get list of all continuous variables outliers\n",
    "count = 0\n",
    "\n",
    "for outlier_index in outliers_DMBTR:\n",
    "    if outlier_index not in outliers_WRBTR:\n",
    "        outliers_idx_lst.append(outlier_index)\n",
    "    else:\n",
    "        count+1"
   ]
  },
  {
   "cell_type": "code",
   "execution_count": 319,
   "id": "9a375383",
   "metadata": {},
   "outputs": [
    {
     "data": {
      "text/plain": [
       "79920"
      ]
     },
     "execution_count": 319,
     "metadata": {},
     "output_type": "execute_result"
    }
   ],
   "source": [
    "len(outliers_WRBTR)"
   ]
  },
  {
   "cell_type": "code",
   "execution_count": 320,
   "id": "89c93cb0",
   "metadata": {},
   "outputs": [
    {
     "data": {
      "text/html": [
       "<div>\n",
       "<style scoped>\n",
       "    .dataframe tbody tr th:only-of-type {\n",
       "        vertical-align: middle;\n",
       "    }\n",
       "\n",
       "    .dataframe tbody tr th {\n",
       "        vertical-align: top;\n",
       "    }\n",
       "\n",
       "    .dataframe thead th {\n",
       "        text-align: right;\n",
       "    }\n",
       "</style>\n",
       "<table border=\"1\" class=\"dataframe\">\n",
       "  <thead>\n",
       "    <tr style=\"text-align: right;\">\n",
       "      <th></th>\n",
       "      <th>BELNR</th>\n",
       "      <th>WAERS</th>\n",
       "      <th>BUKRS</th>\n",
       "      <th>KTOSL</th>\n",
       "      <th>PRCTR</th>\n",
       "      <th>BSCHL</th>\n",
       "      <th>HKONT</th>\n",
       "      <th>DMBTR</th>\n",
       "      <th>WRBTR</th>\n",
       "      <th>label</th>\n",
       "    </tr>\n",
       "  </thead>\n",
       "  <tbody>\n",
       "    <tr>\n",
       "      <th>1</th>\n",
       "      <td>324441</td>\n",
       "      <td>C1</td>\n",
       "      <td>C18</td>\n",
       "      <td>C7</td>\n",
       "      <td>C76</td>\n",
       "      <td>A1</td>\n",
       "      <td>B2</td>\n",
       "      <td>129856.53</td>\n",
       "      <td>243343.00</td>\n",
       "      <td>regular</td>\n",
       "    </tr>\n",
       "    <tr>\n",
       "      <th>2</th>\n",
       "      <td>133537</td>\n",
       "      <td>C1</td>\n",
       "      <td>C19</td>\n",
       "      <td>C2</td>\n",
       "      <td>C20</td>\n",
       "      <td>A1</td>\n",
       "      <td>B3</td>\n",
       "      <td>957463.97</td>\n",
       "      <td>3183838.41</td>\n",
       "      <td>regular</td>\n",
       "    </tr>\n",
       "    <tr>\n",
       "      <th>5</th>\n",
       "      <td>327203</td>\n",
       "      <td>C1</td>\n",
       "      <td>C15</td>\n",
       "      <td>C6</td>\n",
       "      <td>C68</td>\n",
       "      <td>A1</td>\n",
       "      <td>B2</td>\n",
       "      <td>357627.56</td>\n",
       "      <td>704520.00</td>\n",
       "      <td>regular</td>\n",
       "    </tr>\n",
       "    <tr>\n",
       "      <th>6</th>\n",
       "      <td>292545</td>\n",
       "      <td>C4</td>\n",
       "      <td>C47</td>\n",
       "      <td>C2</td>\n",
       "      <td>C28</td>\n",
       "      <td>A2</td>\n",
       "      <td>B3</td>\n",
       "      <td>955576.84</td>\n",
       "      <td>128328.00</td>\n",
       "      <td>regular</td>\n",
       "    </tr>\n",
       "    <tr>\n",
       "      <th>11</th>\n",
       "      <td>226522</td>\n",
       "      <td>C1</td>\n",
       "      <td>C12</td>\n",
       "      <td>C1</td>\n",
       "      <td>C16</td>\n",
       "      <td>A1</td>\n",
       "      <td>B1</td>\n",
       "      <td>535235.52</td>\n",
       "      <td>126694.01</td>\n",
       "      <td>regular</td>\n",
       "    </tr>\n",
       "    <tr>\n",
       "      <th>47</th>\n",
       "      <td>445876</td>\n",
       "      <td>C2</td>\n",
       "      <td>C20</td>\n",
       "      <td>C1</td>\n",
       "      <td>C15</td>\n",
       "      <td>A1</td>\n",
       "      <td>B1</td>\n",
       "      <td>572966.69</td>\n",
       "      <td>80630.00</td>\n",
       "      <td>regular</td>\n",
       "    </tr>\n",
       "    <tr>\n",
       "      <th>50</th>\n",
       "      <td>367085</td>\n",
       "      <td>C1</td>\n",
       "      <td>C16</td>\n",
       "      <td>C1</td>\n",
       "      <td>C12</td>\n",
       "      <td>A1</td>\n",
       "      <td>B1</td>\n",
       "      <td>1215780.93</td>\n",
       "      <td>253276.43</td>\n",
       "      <td>regular</td>\n",
       "    </tr>\n",
       "    <tr>\n",
       "      <th>57</th>\n",
       "      <td>219523</td>\n",
       "      <td>C1</td>\n",
       "      <td>C14</td>\n",
       "      <td>C1</td>\n",
       "      <td>C10</td>\n",
       "      <td>A1</td>\n",
       "      <td>B1</td>\n",
       "      <td>489726.59</td>\n",
       "      <td>198334.00</td>\n",
       "      <td>regular</td>\n",
       "    </tr>\n",
       "    <tr>\n",
       "      <th>58</th>\n",
       "      <td>25899</td>\n",
       "      <td>C1</td>\n",
       "      <td>C11</td>\n",
       "      <td>C1</td>\n",
       "      <td>C15</td>\n",
       "      <td>A1</td>\n",
       "      <td>B1</td>\n",
       "      <td>291486.27</td>\n",
       "      <td>76483.00</td>\n",
       "      <td>regular</td>\n",
       "    </tr>\n",
       "    <tr>\n",
       "      <th>82</th>\n",
       "      <td>52055</td>\n",
       "      <td>C3</td>\n",
       "      <td>C33</td>\n",
       "      <td>C1</td>\n",
       "      <td>C15</td>\n",
       "      <td>A3</td>\n",
       "      <td>B1</td>\n",
       "      <td>380530.65</td>\n",
       "      <td>380380.00</td>\n",
       "      <td>regular</td>\n",
       "    </tr>\n",
       "    <tr>\n",
       "      <th>98</th>\n",
       "      <td>452261</td>\n",
       "      <td>C1</td>\n",
       "      <td>C15</td>\n",
       "      <td>C2</td>\n",
       "      <td>C27</td>\n",
       "      <td>A1</td>\n",
       "      <td>B3</td>\n",
       "      <td>1526238.87</td>\n",
       "      <td>100354.00</td>\n",
       "      <td>regular</td>\n",
       "    </tr>\n",
       "    <tr>\n",
       "      <th>106</th>\n",
       "      <td>292377</td>\n",
       "      <td>C1</td>\n",
       "      <td>C15</td>\n",
       "      <td>C1</td>\n",
       "      <td>C13</td>\n",
       "      <td>A1</td>\n",
       "      <td>B1</td>\n",
       "      <td>966036.33</td>\n",
       "      <td>152684.00</td>\n",
       "      <td>regular</td>\n",
       "    </tr>\n",
       "    <tr>\n",
       "      <th>113</th>\n",
       "      <td>254166</td>\n",
       "      <td>C1</td>\n",
       "      <td>C19</td>\n",
       "      <td>C7</td>\n",
       "      <td>C78</td>\n",
       "      <td>A1</td>\n",
       "      <td>B2</td>\n",
       "      <td>1310503.55</td>\n",
       "      <td>100674.00</td>\n",
       "      <td>regular</td>\n",
       "    </tr>\n",
       "    <tr>\n",
       "      <th>118</th>\n",
       "      <td>192384</td>\n",
       "      <td>C6</td>\n",
       "      <td>C67</td>\n",
       "      <td>C1</td>\n",
       "      <td>C17</td>\n",
       "      <td>A2</td>\n",
       "      <td>B1</td>\n",
       "      <td>266978.84</td>\n",
       "      <td>74797.00</td>\n",
       "      <td>regular</td>\n",
       "    </tr>\n",
       "    <tr>\n",
       "      <th>120</th>\n",
       "      <td>250736</td>\n",
       "      <td>C1</td>\n",
       "      <td>C10</td>\n",
       "      <td>C1</td>\n",
       "      <td>C19</td>\n",
       "      <td>A1</td>\n",
       "      <td>B1</td>\n",
       "      <td>1560329.62</td>\n",
       "      <td>253812.00</td>\n",
       "      <td>regular</td>\n",
       "    </tr>\n",
       "    <tr>\n",
       "      <th>125</th>\n",
       "      <td>270804</td>\n",
       "      <td>C1</td>\n",
       "      <td>C13</td>\n",
       "      <td>C4</td>\n",
       "      <td>C40</td>\n",
       "      <td>A1</td>\n",
       "      <td>B3</td>\n",
       "      <td>769387.02</td>\n",
       "      <td>113503.00</td>\n",
       "      <td>regular</td>\n",
       "    </tr>\n",
       "    <tr>\n",
       "      <th>135</th>\n",
       "      <td>435115</td>\n",
       "      <td>C3</td>\n",
       "      <td>C34</td>\n",
       "      <td>C1</td>\n",
       "      <td>C18</td>\n",
       "      <td>A3</td>\n",
       "      <td>B1</td>\n",
       "      <td>1096039.40</td>\n",
       "      <td>911832.47</td>\n",
       "      <td>regular</td>\n",
       "    </tr>\n",
       "    <tr>\n",
       "      <th>137</th>\n",
       "      <td>520358</td>\n",
       "      <td>C1</td>\n",
       "      <td>C13</td>\n",
       "      <td>C8</td>\n",
       "      <td>C87</td>\n",
       "      <td>A1</td>\n",
       "      <td>B3</td>\n",
       "      <td>88484.69</td>\n",
       "      <td>202382.00</td>\n",
       "      <td>regular</td>\n",
       "    </tr>\n",
       "    <tr>\n",
       "      <th>138</th>\n",
       "      <td>302642</td>\n",
       "      <td>C2</td>\n",
       "      <td>C20</td>\n",
       "      <td>C4</td>\n",
       "      <td>C41</td>\n",
       "      <td>A1</td>\n",
       "      <td>B3</td>\n",
       "      <td>206127.42</td>\n",
       "      <td>403697.33</td>\n",
       "      <td>regular</td>\n",
       "    </tr>\n",
       "    <tr>\n",
       "      <th>152</th>\n",
       "      <td>85526</td>\n",
       "      <td>C7</td>\n",
       "      <td>C70</td>\n",
       "      <td>C7</td>\n",
       "      <td>C73</td>\n",
       "      <td>A3</td>\n",
       "      <td>B2</td>\n",
       "      <td>992934.17</td>\n",
       "      <td>93105.00</td>\n",
       "      <td>regular</td>\n",
       "    </tr>\n",
       "  </tbody>\n",
       "</table>\n",
       "</div>"
      ],
      "text/plain": [
       "      BELNR WAERS BUKRS KTOSL PRCTR BSCHL HKONT       DMBTR       WRBTR  \\\n",
       "1    324441    C1   C18    C7   C76    A1    B2   129856.53   243343.00   \n",
       "2    133537    C1   C19    C2   C20    A1    B3   957463.97  3183838.41   \n",
       "5    327203    C1   C15    C6   C68    A1    B2   357627.56   704520.00   \n",
       "6    292545    C4   C47    C2   C28    A2    B3   955576.84   128328.00   \n",
       "11   226522    C1   C12    C1   C16    A1    B1   535235.52   126694.01   \n",
       "47   445876    C2   C20    C1   C15    A1    B1   572966.69    80630.00   \n",
       "50   367085    C1   C16    C1   C12    A1    B1  1215780.93   253276.43   \n",
       "57   219523    C1   C14    C1   C10    A1    B1   489726.59   198334.00   \n",
       "58    25899    C1   C11    C1   C15    A1    B1   291486.27    76483.00   \n",
       "82    52055    C3   C33    C1   C15    A3    B1   380530.65   380380.00   \n",
       "98   452261    C1   C15    C2   C27    A1    B3  1526238.87   100354.00   \n",
       "106  292377    C1   C15    C1   C13    A1    B1   966036.33   152684.00   \n",
       "113  254166    C1   C19    C7   C78    A1    B2  1310503.55   100674.00   \n",
       "118  192384    C6   C67    C1   C17    A2    B1   266978.84    74797.00   \n",
       "120  250736    C1   C10    C1   C19    A1    B1  1560329.62   253812.00   \n",
       "125  270804    C1   C13    C4   C40    A1    B3   769387.02   113503.00   \n",
       "135  435115    C3   C34    C1   C18    A3    B1  1096039.40   911832.47   \n",
       "137  520358    C1   C13    C8   C87    A1    B3    88484.69   202382.00   \n",
       "138  302642    C2   C20    C4   C41    A1    B3   206127.42   403697.33   \n",
       "152   85526    C7   C70    C7   C73    A3    B2   992934.17    93105.00   \n",
       "\n",
       "       label  \n",
       "1    regular  \n",
       "2    regular  \n",
       "5    regular  \n",
       "6    regular  \n",
       "11   regular  \n",
       "47   regular  \n",
       "50   regular  \n",
       "57   regular  \n",
       "58   regular  \n",
       "82   regular  \n",
       "98   regular  \n",
       "106  regular  \n",
       "113  regular  \n",
       "118  regular  \n",
       "120  regular  \n",
       "125  regular  \n",
       "135  regular  \n",
       "137  regular  \n",
       "138  regular  \n",
       "152  regular  "
      ]
     },
     "execution_count": 320,
     "metadata": {},
     "output_type": "execute_result"
    }
   ],
   "source": [
    "df.iloc[outliers_idx_lst].head(20)"
   ]
  },
  {
   "cell_type": "code",
   "execution_count": 321,
   "id": "8bcdc0ee",
   "metadata": {},
   "outputs": [
    {
     "data": {
      "text/plain": [
       "70"
      ]
     },
     "execution_count": 321,
     "metadata": {},
     "output_type": "execute_result"
    }
   ],
   "source": [
    "df.iloc[outliers_idx_lst]\n",
    "sum((df.iloc[outliers_idx_lst]['label'] == 'global'))"
   ]
  },
  {
   "cell_type": "code",
   "execution_count": 322,
   "id": "f54bbd69",
   "metadata": {},
   "outputs": [
    {
     "data": {
      "text/plain": [
       "0"
      ]
     },
     "execution_count": 322,
     "metadata": {},
     "output_type": "execute_result"
    }
   ],
   "source": [
    "sum((df.iloc[outliers_idx_lst]['label'] == 'local'))"
   ]
  },
  {
   "cell_type": "code",
   "execution_count": 323,
   "id": "e864d1c4",
   "metadata": {},
   "outputs": [
    {
     "data": {
      "text/plain": [
       "113181"
      ]
     },
     "execution_count": 323,
     "metadata": {},
     "output_type": "execute_result"
    }
   ],
   "source": [
    "sum(df.iloc[outliers_idx_lst]['label'] == 'regular')"
   ]
  },
  {
   "cell_type": "markdown",
   "id": "887a8fac",
   "metadata": {},
   "source": [
    "- Seems like an highly unbalanced dataset\n",
    "- All of the global anomalies have 'anomalous' values of amount values\n",
    "- No local anomalies with outliers\n",
    "\n",
    "Time to check de distributions! (We will probably have long tails due to high valued outliers)"
   ]
  },
  {
   "cell_type": "code",
   "execution_count": 324,
   "id": "ba9f667c",
   "metadata": {},
   "outputs": [
    {
     "data": {
      "text/plain": [
       "<AxesSubplot:ylabel='Frequency'>"
      ]
     },
     "execution_count": 324,
     "metadata": {},
     "output_type": "execute_result"
    },
    {
     "data": {
      "image/png": "[encoded data removed]",
      "text/plain": [
       "<Figure size 432x288 with 1 Axes>"
      ]
     },
     "metadata": {
      "needs_background": "light"
     },
     "output_type": "display_data"
    }
   ],
   "source": [
    "df[['DMBTR']].plot.hist()"
   ]
  },
  {
   "cell_type": "code",
   "execution_count": 325,
   "id": "444bce7c",
   "metadata": {},
   "outputs": [
    {
     "data": {
      "text/plain": [
       "<AxesSubplot:ylabel='Frequency'>"
      ]
     },
     "execution_count": 325,
     "metadata": {},
     "output_type": "execute_result"
    },
    {
     "data": {
      "image/png": "[encoded data removed]",
      "text/plain": [
       "<Figure size 432x288 with 1 Axes>"
      ]
     },
     "metadata": {
      "needs_background": "light"
     },
     "output_type": "display_data"
    }
   ],
   "source": [
    "df[['WRBTR']].plot.hist()"
   ]
  },
  {
   "cell_type": "code",
   "execution_count": 366,
   "id": "21a27c88",
   "metadata": {},
   "outputs": [],
   "source": [
    "df_without_outliers = df[['DMBTR','WRBTR']].copy()"
   ]
  },
  {
   "cell_type": "code",
   "execution_count": 375,
   "id": "3f5cacf6",
   "metadata": {},
   "outputs": [],
   "source": [
    "lower_vals = (df_without_outliers < (Q1 - (1.5 * IQR)))\n",
    "upper_vals = (df_without_outliers > (Q3 + (1.5 * IQR)))"
   ]
  },
  {
   "cell_type": "code",
   "execution_count": 376,
   "id": "6d9f428c",
   "metadata": {},
   "outputs": [
    {
     "data": {
      "text/plain": [
       "(533009, 2)"
      ]
     },
     "execution_count": 376,
     "metadata": {},
     "output_type": "execute_result"
    }
   ],
   "source": [
    "df_without_outliers = df_without_outliers.mask(lower_vals, Q1, axis=1)\n",
    "df_without_outliers = df_without_outliers.mask(upper_vals, Q3, axis=1)\n",
    "df_without_outliers.shape"
   ]
  },
  {
   "cell_type": "code",
   "execution_count": 377,
   "id": "09227c98",
   "metadata": {},
   "outputs": [
    {
     "data": {
      "text/plain": [
       "<AxesSubplot:ylabel='Frequency'>"
      ]
     },
     "execution_count": 377,
     "metadata": {},
     "output_type": "execute_result"
    },
    {
     "data": {
      "image/png": "[encoded data removed]",
      "text/plain": [
       "<Figure size 432x288 with 1 Axes>"
      ]
     },
     "metadata": {
      "needs_background": "light"
     },
     "output_type": "display_data"
    }
   ],
   "source": [
    "df_without_outliers[['DMBTR']].plot.hist()"
   ]
  },
  {
   "cell_type": "code",
   "execution_count": 378,
   "id": "a8208e39",
   "metadata": {},
   "outputs": [
    {
     "data": {
      "text/plain": [
       "<AxesSubplot:ylabel='Frequency'>"
      ]
     },
     "execution_count": 378,
     "metadata": {},
     "output_type": "execute_result"
    },
    {
     "data": {
      "image/png": "[encoded data removed]",
      "text/plain": [
       "<Figure size 432x288 with 1 Axes>"
      ]
     },
     "metadata": {
      "needs_background": "light"
     },
     "output_type": "display_data"
    }
   ],
   "source": [
    "df_without_outliers[['WRBTR']].plot.hist()"
   ]
  },
  {
   "cell_type": "markdown",
   "id": "e544ba35",
   "metadata": {},
   "source": [
    "They still have a slight kurtosis. Let's try a log transform to take care of that!"
   ]
  },
  {
   "cell_type": "code",
   "execution_count": 379,
   "id": "ed3912e3",
   "metadata": {},
   "outputs": [
    {
     "name": "stderr",
     "output_type": "stream",
     "text": [
      "/Users/diogoalves/miniforge3/envs/tensorflow/lib/python3.9/site-packages/pandas/core/internals/blocks.py:402: RuntimeWarning: divide by zero encountered in log\n",
      "  result = func(self.values, **kwargs)\n"
     ]
    },
    {
     "data": {
      "text/plain": [
       "<AxesSubplot:ylabel='Frequency'>"
      ]
     },
     "execution_count": 379,
     "metadata": {},
     "output_type": "execute_result"
    },
    {
     "data": {
      "image/png": "[encoded data removed]",
      "text/plain": [
       "<Figure size 432x288 with 1 Axes>"
      ]
     },
     "metadata": {
      "needs_background": "light"
     },
     "output_type": "display_data"
    }
   ],
   "source": [
    "test_WRBTR = np.log(df_without_outliers[['WRBTR']])\n",
    "test_WRBTR.replace([np.inf, -np.inf], 0, inplace=True)\n",
    "test_WRBTR.plot.hist()"
   ]
  },
  {
   "cell_type": "code",
   "execution_count": 380,
   "id": "8ada5bd9",
   "metadata": {},
   "outputs": [
    {
     "data": {
      "text/plain": [
       "<AxesSubplot:ylabel='Frequency'>"
      ]
     },
     "execution_count": 380,
     "metadata": {},
     "output_type": "execute_result"
    },
    {
     "data": {
      "image/png": "[encoded data removed]",
      "text/plain": [
       "<Figure size 432x288 with 1 Axes>"
      ]
     },
     "metadata": {
      "needs_background": "light"
     },
     "output_type": "display_data"
    }
   ],
   "source": [
    "test_DMBTR = np.log(df_without_outliers[['DMBTR']])\n",
    "test_DMBTR.replace([np.inf, -np.inf], 0, inplace=True)\n",
    "test_DMBTR.plot.hist()"
   ]
  },
  {
   "cell_type": "markdown",
   "id": "38400065",
   "metadata": {},
   "source": [
    "A log transform didn't improve much of the normal distribution... It will probably be better to use the untransformed ones.\n",
    "What about the correlation between them?"
   ]
  },
  {
   "cell_type": "code",
   "execution_count": 381,
   "id": "93c49e74",
   "metadata": {},
   "outputs": [
    {
     "data": {
      "text/html": [
       "<div>\n",
       "<style scoped>\n",
       "    .dataframe tbody tr th:only-of-type {\n",
       "        vertical-align: middle;\n",
       "    }\n",
       "\n",
       "    .dataframe tbody tr th {\n",
       "        vertical-align: top;\n",
       "    }\n",
       "\n",
       "    .dataframe thead th {\n",
       "        text-align: right;\n",
       "    }\n",
       "</style>\n",
       "<table border=\"1\" class=\"dataframe\">\n",
       "  <thead>\n",
       "    <tr style=\"text-align: right;\">\n",
       "      <th></th>\n",
       "      <th>DMBTR</th>\n",
       "      <th>WRBTR</th>\n",
       "    </tr>\n",
       "  </thead>\n",
       "  <tbody>\n",
       "    <tr>\n",
       "      <th>DMBTR</th>\n",
       "      <td>1.000000</td>\n",
       "      <td>0.032223</td>\n",
       "    </tr>\n",
       "    <tr>\n",
       "      <th>WRBTR</th>\n",
       "      <td>0.032223</td>\n",
       "      <td>1.000000</td>\n",
       "    </tr>\n",
       "  </tbody>\n",
       "</table>\n",
       "</div>"
      ],
      "text/plain": [
       "          DMBTR     WRBTR\n",
       "DMBTR  1.000000  0.032223\n",
       "WRBTR  0.032223  1.000000"
      ]
     },
     "execution_count": 381,
     "metadata": {},
     "output_type": "execute_result"
    }
   ],
   "source": [
    "df_without_outliers[['DMBTR','WRBTR']].corr()"
   ]
  },
  {
   "cell_type": "code",
   "execution_count": 384,
   "id": "620a666c",
   "metadata": {},
   "outputs": [
    {
     "data": {
      "image/png": "[encoded data removed]",
      "text/plain": [
       "<Figure size 432x288 with 2 Axes>"
      ]
     },
     "metadata": {
      "needs_background": "light"
     },
     "output_type": "display_data"
    }
   ],
   "source": [
    "ax = sns.heatmap(df_without_outliers[['DMBTR','WRBTR']].corr())"
   ]
  },
  {
   "cell_type": "markdown",
   "id": "85780937",
   "metadata": {},
   "source": [
    "The continuous features are not correlated at all. That's a good thing since multicolinearity is a problem for several ML Models.\n",
    "Now it's time to inspect the categorical features!"
   ]
  },
  {
   "cell_type": "markdown",
   "id": "ecdb7e54",
   "metadata": {},
   "source": [
    "### Categorical Variables "
   ]
  },
  {
   "cell_type": "markdown",
   "id": "d3096b63",
   "metadata": {},
   "source": [
    "Regarding Categorical Features, I like to start the analysis aggregating some data in order to understand some patterns."
   ]
  },
  {
   "cell_type": "code",
   "execution_count": 400,
   "id": "fa433006",
   "metadata": {},
   "outputs": [],
   "source": [
    "categorical_variables = df[['WAERS','BUKRS','KTOSL','PRCTR','BSCHL','HKONT']]"
   ]
  },
  {
   "cell_type": "code",
   "execution_count": 432,
   "id": "f142a404",
   "metadata": {},
   "outputs": [
    {
     "data": {
      "image/png": "[encoded data removed]",
      "text/plain": [
       "<Figure size 1080x720 with 1 Axes>"
      ]
     },
     "metadata": {
      "needs_background": "light"
     },
     "output_type": "display_data"
    },
    {
     "data": {
      "image/png": "[encoded data removed]",
      "text/plain": [
       "<Figure size 1080x720 with 1 Axes>"
      ]
     },
     "metadata": {
      "needs_background": "light"
     },
     "output_type": "display_data"
    },
    {
     "data": {
      "image/png": "[encoded data removed]",
      "text/plain": [
       "<Figure size 1080x720 with 1 Axes>"
      ]
     },
     "metadata": {
      "needs_background": "light"
     },
     "output_type": "display_data"
    },
    {
     "data": {
      "image/png": "[encoded data removed]",
      "text/plain": [
       "<Figure size 1080x720 with 1 Axes>"
      ]
     },
     "metadata": {
      "needs_background": "light"
     },
     "output_type": "display_data"
    },
    {
     "data": {
      "image/png": "[encoded data removed]",
      "text/plain": [
       "<Figure size 1080x720 with 1 Axes>"
      ]
     },
     "metadata": {
      "needs_background": "light"
     },
     "output_type": "display_data"
    },
    {
     "data": {
      "image/png": "[encoded data removed]",
      "text/plain": [
       "<Figure size 1080x720 with 1 Axes>"
      ]
     },
     "metadata": {
      "needs_background": "light"
     },
     "output_type": "display_data"
    }
   ],
   "source": [
    "frequencies = []\n",
    "for col in categorical_variables.columns:\n",
    "    categorical_variables[col].value_counts().plot(kind='bar',figsize=(15, 10))\n",
    "    plt.title(col)\n",
    "    plt.show()"
   ]
  },
  {
   "cell_type": "markdown",
   "id": "bcf81cf1",
   "metadata": {},
   "source": [
    "Many categorical variables can be threated as discrete, or continuous (in case of a vast amount of labels on a discrete variable). This discretization happens due to the large amount of labels in each variable, therefore, we can simply integer encode this variables and threat them as discrete/continuous. Regarding the others we can one hot encode them."
   ]
  },
  {
   "cell_type": "markdown",
   "id": "9a6cbf96",
   "metadata": {},
   "source": [
    "### The predictive variable (Labels)"
   ]
  },
  {
   "cell_type": "markdown",
   "id": "4db267f4",
   "metadata": {},
   "source": [
    "I like to gain some knowledge about the dataset, analysing the labels. This step helps to understand and distinguish an anomalous behaviour from a regular one.\n",
    "For this step I ask myself: \n",
    "   - What causes na anomaly?\n",
    "   - What are the variables that have a major impact on anomalies?\n",
    "       - Do they impact directly the decision? Do they need any externel contribute from others to cause an anomaly?\n",
    "   - What should I expect (according to the data that I have) to be a regular behaviour?"
   ]
  },
  {
   "cell_type": "code",
   "execution_count": null,
   "id": "351bcf2a",
   "metadata": {},
   "outputs": [],
   "source": [
    "# Let's inspect some anomalies\n",
    "anomaly_df = df[(df['label']=='global') | (df['label']=='local')]\n",
    "anomaly_df.head(20)"
   ]
  },
  {
   "cell_type": "code",
   "execution_count": 444,
   "id": "c51cf64b",
   "metadata": {},
   "outputs": [
    {
     "data": {
      "text/html": [
       "<div>\n",
       "<style scoped>\n",
       "    .dataframe tbody tr th:only-of-type {\n",
       "        vertical-align: middle;\n",
       "    }\n",
       "\n",
       "    .dataframe tbody tr th {\n",
       "        vertical-align: top;\n",
       "    }\n",
       "\n",
       "    .dataframe thead th {\n",
       "        text-align: right;\n",
       "    }\n",
       "</style>\n",
       "<table border=\"1\" class=\"dataframe\">\n",
       "  <thead>\n",
       "    <tr style=\"text-align: right;\">\n",
       "      <th></th>\n",
       "      <th>min</th>\n",
       "      <th>max</th>\n",
       "      <th>count</th>\n",
       "      <th>nunique</th>\n",
       "    </tr>\n",
       "    <tr>\n",
       "      <th>BUKRS</th>\n",
       "      <th></th>\n",
       "      <th></th>\n",
       "      <th></th>\n",
       "      <th></th>\n",
       "    </tr>\n",
       "  </thead>\n",
       "  <tbody>\n",
       "    <tr>\n",
       "      <th>A43</th>\n",
       "      <td>global</td>\n",
       "      <td>global</td>\n",
       "      <td>1</td>\n",
       "      <td>1</td>\n",
       "    </tr>\n",
       "    <tr>\n",
       "      <th>A89</th>\n",
       "      <td>global</td>\n",
       "      <td>global</td>\n",
       "      <td>1</td>\n",
       "      <td>1</td>\n",
       "    </tr>\n",
       "    <tr>\n",
       "      <th>B37</th>\n",
       "      <td>global</td>\n",
       "      <td>global</td>\n",
       "      <td>1</td>\n",
       "      <td>1</td>\n",
       "    </tr>\n",
       "    <tr>\n",
       "      <th>B76</th>\n",
       "      <td>global</td>\n",
       "      <td>global</td>\n",
       "      <td>1</td>\n",
       "      <td>1</td>\n",
       "    </tr>\n",
       "    <tr>\n",
       "      <th>C10</th>\n",
       "      <td>regular</td>\n",
       "      <td>regular</td>\n",
       "      <td>27311</td>\n",
       "      <td>1</td>\n",
       "    </tr>\n",
       "    <tr>\n",
       "      <th>C11</th>\n",
       "      <td>local</td>\n",
       "      <td>regular</td>\n",
       "      <td>27248</td>\n",
       "      <td>2</td>\n",
       "    </tr>\n",
       "    <tr>\n",
       "      <th>C12</th>\n",
       "      <td>regular</td>\n",
       "      <td>regular</td>\n",
       "      <td>27452</td>\n",
       "      <td>1</td>\n",
       "    </tr>\n",
       "    <tr>\n",
       "      <th>C13</th>\n",
       "      <td>global</td>\n",
       "      <td>regular</td>\n",
       "      <td>27775</td>\n",
       "      <td>2</td>\n",
       "    </tr>\n",
       "    <tr>\n",
       "      <th>C14</th>\n",
       "      <td>regular</td>\n",
       "      <td>regular</td>\n",
       "      <td>27582</td>\n",
       "      <td>1</td>\n",
       "    </tr>\n",
       "    <tr>\n",
       "      <th>C15</th>\n",
       "      <td>regular</td>\n",
       "      <td>regular</td>\n",
       "      <td>27549</td>\n",
       "      <td>1</td>\n",
       "    </tr>\n",
       "  </tbody>\n",
       "</table>\n",
       "</div>"
      ],
      "text/plain": [
       "           min      max  count  nunique\n",
       "BUKRS                                  \n",
       "A43     global   global      1        1\n",
       "A89     global   global      1        1\n",
       "B37     global   global      1        1\n",
       "B76     global   global      1        1\n",
       "C10    regular  regular  27311        1\n",
       "C11      local  regular  27248        2\n",
       "C12    regular  regular  27452        1\n",
       "C13     global  regular  27775        2\n",
       "C14    regular  regular  27582        1\n",
       "C15    regular  regular  27549        1"
      ]
     },
     "execution_count": 444,
     "metadata": {},
     "output_type": "execute_result"
    }
   ],
   "source": [
    "grouped = df.groupby('BUKRS')['label'].agg(['min', 'max', 'count', 'nunique'])\n",
    "grouped.sort_index(ascending=True).head(10)"
   ]
  },
  {
   "cell_type": "code",
   "execution_count": null,
   "id": "f9769708",
   "metadata": {},
   "outputs": [],
   "source": []
  }
 ],
 "metadata": {
  "kernelspec": {
   "display_name": "tensorflow",
   "language": "python",
   "name": "tensorflow"
  },
  "language_info": {
   "codemirror_mode": {
    "name": "ipython",
    "version": 3
   },
   "file_extension": ".py",
   "mimetype": "text/x-python",
   "name": "python",
   "nbconvert_exporter": "python",
   "pygments_lexer": "ipython3",
   "version": "3.9.5"
  }
 },
 "nbformat": 4,
 "nbformat_minor": 5
}
