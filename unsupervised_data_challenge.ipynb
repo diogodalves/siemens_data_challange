{
 "cells": [
  {
   "cell_type": "code",
   "execution_count": 1,
   "id": "a540e72c",
   "metadata": {},
   "outputs": [],
   "source": [
    "import numpy as np\n",
    "import pandas as pd\n",
    "import matplotlib.pyplot as plt\n",
    "import seaborn as sns\n",
    "\n",
    "from sklearn.preprocessing import MinMaxScaler\n",
    "from sklearn.preprocessing import StandardScaler\n",
    "from sklearn.model_selection import train_test_split\n",
    "\n",
    "from sklearn.metrics import f1_score\n",
    "from sklearn.metrics import precision_score\n",
    "from sklearn.metrics import recall_score\n",
    "from sklearn.metrics import confusion_matrix\n",
    "from sklearn.metrics import average_precision_score\n",
    "\n",
    "import tensorflow\n",
    "from tensorflow import keras\n",
    "from tensorflow.keras import layers, models, Model\n",
    "from tensorflow.keras import callbacks\n",
    "from tensorflow.keras.layers import Input, Dense, Dropout, Conv1D, MaxPooling1D, Flatten, BatchNormalization\n",
    "from tensorflow.keras.optimizers import SGD, Adam\n",
    "from tensorflow.keras.utils import plot_model\n",
    "\n",
    "import tensorflow_addons as tfa"
   ]
  },
  {
   "cell_type": "code",
   "execution_count": 2,
   "id": "ddb2b01b",
   "metadata": {},
   "outputs": [],
   "source": [
    "# plot confusion matrix\n",
    "def plot_cm(labels, predictions):\n",
    "    cm = confusion_matrix(labels, predictions)\n",
    "    plt.figure(figsize=(5,5))\n",
    "    sns.heatmap(cm, annot=True, fmt=\"d\")\n",
    "    plt.title('Confusion matrix')\n",
    "    plt.ylabel('Actual label')\n",
    "    plt.xlabel('Predicted label')\n",
    "\n",
    "# Evaluate model\n",
    "def evaluate_model(y_true, y_pred, avg='macro'):\n",
    "    auprc = average_precision_score(y_true, y_pred, average=avg)\n",
    "    precision = precision_score(y_true, y_pred, average=avg)\n",
    "    recall = recall_score(y_true, y_pred, average=avg)\n",
    "    f1_sc = f1_score(y_true, y_pred, average=avg)\n",
    "    \n",
    "    metrics_lst = ['AUCPRC','precision','recall','f1 score']\n",
    "    metrics_vals = [auprc, precision, recall, f1_sc]\n",
    "    for i in range(len(metrics_vals)):\n",
    "        print(f'{metrics_lst[i]}: {metrics_vals[i]}')"
   ]
  },
  {
   "cell_type": "code",
   "execution_count": 3,
   "id": "cdaff9fa",
   "metadata": {},
   "outputs": [
    {
     "data": {
      "text/html": [
       "<div>\n",
       "<style scoped>\n",
       "    .dataframe tbody tr th:only-of-type {\n",
       "        vertical-align: middle;\n",
       "    }\n",
       "\n",
       "    .dataframe tbody tr th {\n",
       "        vertical-align: top;\n",
       "    }\n",
       "\n",
       "    .dataframe thead th {\n",
       "        text-align: right;\n",
       "    }\n",
       "</style>\n",
       "<table border=\"1\" class=\"dataframe\">\n",
       "  <thead>\n",
       "    <tr style=\"text-align: right;\">\n",
       "      <th></th>\n",
       "      <th>DMBTR</th>\n",
       "      <th>WRBTR</th>\n",
       "      <th>label</th>\n",
       "      <th>HKONT_A42</th>\n",
       "      <th>HKONT_B1</th>\n",
       "      <th>HKONT_B2</th>\n",
       "      <th>HKONT_B3</th>\n",
       "      <th>HKONT_B35</th>\n",
       "      <th>HKONT_C25</th>\n",
       "      <th>HKONT_C42</th>\n",
       "      <th>...</th>\n",
       "      <th>HKONT_V78</th>\n",
       "      <th>HKONT_V92</th>\n",
       "      <th>HKONT_W03</th>\n",
       "      <th>HKONT_W12</th>\n",
       "      <th>HKONT_W62</th>\n",
       "      <th>HKONT_X53</th>\n",
       "      <th>HKONT_Y03</th>\n",
       "      <th>HKONT_Y23</th>\n",
       "      <th>HKONT_Z01</th>\n",
       "      <th>HKONT_Z02</th>\n",
       "    </tr>\n",
       "    <tr>\n",
       "      <th>BELNR</th>\n",
       "      <th></th>\n",
       "      <th></th>\n",
       "      <th></th>\n",
       "      <th></th>\n",
       "      <th></th>\n",
       "      <th></th>\n",
       "      <th></th>\n",
       "      <th></th>\n",
       "      <th></th>\n",
       "      <th></th>\n",
       "      <th></th>\n",
       "      <th></th>\n",
       "      <th></th>\n",
       "      <th></th>\n",
       "      <th></th>\n",
       "      <th></th>\n",
       "      <th></th>\n",
       "      <th></th>\n",
       "      <th></th>\n",
       "      <th></th>\n",
       "      <th></th>\n",
       "    </tr>\n",
       "  </thead>\n",
       "  <tbody>\n",
       "    <tr>\n",
       "      <th>288203</th>\n",
       "      <td>280979.60</td>\n",
       "      <td>0.00</td>\n",
       "      <td>0</td>\n",
       "      <td>0</td>\n",
       "      <td>1</td>\n",
       "      <td>0</td>\n",
       "      <td>0</td>\n",
       "      <td>0</td>\n",
       "      <td>0</td>\n",
       "      <td>0</td>\n",
       "      <td>...</td>\n",
       "      <td>0</td>\n",
       "      <td>0</td>\n",
       "      <td>0</td>\n",
       "      <td>0</td>\n",
       "      <td>0</td>\n",
       "      <td>0</td>\n",
       "      <td>0</td>\n",
       "      <td>0</td>\n",
       "      <td>0</td>\n",
       "      <td>0</td>\n",
       "    </tr>\n",
       "    <tr>\n",
       "      <th>324441</th>\n",
       "      <td>129856.53</td>\n",
       "      <td>243343.00</td>\n",
       "      <td>0</td>\n",
       "      <td>0</td>\n",
       "      <td>0</td>\n",
       "      <td>1</td>\n",
       "      <td>0</td>\n",
       "      <td>0</td>\n",
       "      <td>0</td>\n",
       "      <td>0</td>\n",
       "      <td>...</td>\n",
       "      <td>0</td>\n",
       "      <td>0</td>\n",
       "      <td>0</td>\n",
       "      <td>0</td>\n",
       "      <td>0</td>\n",
       "      <td>0</td>\n",
       "      <td>0</td>\n",
       "      <td>0</td>\n",
       "      <td>0</td>\n",
       "      <td>0</td>\n",
       "    </tr>\n",
       "    <tr>\n",
       "      <th>133537</th>\n",
       "      <td>957463.97</td>\n",
       "      <td>3183838.41</td>\n",
       "      <td>0</td>\n",
       "      <td>0</td>\n",
       "      <td>0</td>\n",
       "      <td>0</td>\n",
       "      <td>1</td>\n",
       "      <td>0</td>\n",
       "      <td>0</td>\n",
       "      <td>0</td>\n",
       "      <td>...</td>\n",
       "      <td>0</td>\n",
       "      <td>0</td>\n",
       "      <td>0</td>\n",
       "      <td>0</td>\n",
       "      <td>0</td>\n",
       "      <td>0</td>\n",
       "      <td>0</td>\n",
       "      <td>0</td>\n",
       "      <td>0</td>\n",
       "      <td>0</td>\n",
       "    </tr>\n",
       "    <tr>\n",
       "      <th>331521</th>\n",
       "      <td>2681709.51</td>\n",
       "      <td>28778.00</td>\n",
       "      <td>0</td>\n",
       "      <td>0</td>\n",
       "      <td>1</td>\n",
       "      <td>0</td>\n",
       "      <td>0</td>\n",
       "      <td>0</td>\n",
       "      <td>0</td>\n",
       "      <td>0</td>\n",
       "      <td>...</td>\n",
       "      <td>0</td>\n",
       "      <td>0</td>\n",
       "      <td>0</td>\n",
       "      <td>0</td>\n",
       "      <td>0</td>\n",
       "      <td>0</td>\n",
       "      <td>0</td>\n",
       "      <td>0</td>\n",
       "      <td>0</td>\n",
       "      <td>0</td>\n",
       "    </tr>\n",
       "    <tr>\n",
       "      <th>375333</th>\n",
       "      <td>910514.49</td>\n",
       "      <td>346.00</td>\n",
       "      <td>0</td>\n",
       "      <td>0</td>\n",
       "      <td>1</td>\n",
       "      <td>0</td>\n",
       "      <td>0</td>\n",
       "      <td>0</td>\n",
       "      <td>0</td>\n",
       "      <td>0</td>\n",
       "      <td>...</td>\n",
       "      <td>0</td>\n",
       "      <td>0</td>\n",
       "      <td>0</td>\n",
       "      <td>0</td>\n",
       "      <td>0</td>\n",
       "      <td>0</td>\n",
       "      <td>0</td>\n",
       "      <td>0</td>\n",
       "      <td>0</td>\n",
       "      <td>0</td>\n",
       "    </tr>\n",
       "  </tbody>\n",
       "</table>\n",
       "<p>5 rows × 76 columns</p>\n",
       "</div>"
      ],
      "text/plain": [
       "             DMBTR       WRBTR  label  HKONT_A42  HKONT_B1  HKONT_B2  \\\n",
       "BELNR                                                                  \n",
       "288203   280979.60        0.00      0          0         1         0   \n",
       "324441   129856.53   243343.00      0          0         0         1   \n",
       "133537   957463.97  3183838.41      0          0         0         0   \n",
       "331521  2681709.51    28778.00      0          0         1         0   \n",
       "375333   910514.49      346.00      0          0         1         0   \n",
       "\n",
       "        HKONT_B3  HKONT_B35  HKONT_C25  HKONT_C42  ...  HKONT_V78  HKONT_V92  \\\n",
       "BELNR                                              ...                         \n",
       "288203         0          0          0          0  ...          0          0   \n",
       "324441         0          0          0          0  ...          0          0   \n",
       "133537         1          0          0          0  ...          0          0   \n",
       "331521         0          0          0          0  ...          0          0   \n",
       "375333         0          0          0          0  ...          0          0   \n",
       "\n",
       "        HKONT_W03  HKONT_W12  HKONT_W62  HKONT_X53  HKONT_Y03  HKONT_Y23  \\\n",
       "BELNR                                                                      \n",
       "288203          0          0          0          0          0          0   \n",
       "324441          0          0          0          0          0          0   \n",
       "133537          0          0          0          0          0          0   \n",
       "331521          0          0          0          0          0          0   \n",
       "375333          0          0          0          0          0          0   \n",
       "\n",
       "        HKONT_Z01  HKONT_Z02  \n",
       "BELNR                         \n",
       "288203          0          0  \n",
       "324441          0          0  \n",
       "133537          0          0  \n",
       "331521          0          0  \n",
       "375333          0          0  \n",
       "\n",
       "[5 rows x 76 columns]"
      ]
     },
     "execution_count": 3,
     "metadata": {},
     "output_type": "execute_result"
    }
   ],
   "source": [
    "df = pd.read_csv('no_supervised_df.csv').set_index('BELNR')\n",
    "df.head()"
   ]
  },
  {
   "cell_type": "code",
   "execution_count": 4,
   "id": "459dc151",
   "metadata": {},
   "outputs": [],
   "source": [
    "train_df = df[df['label']==0]\n",
    "anomalies_df = df[df['label']==1]"
   ]
  },
  {
   "cell_type": "code",
   "execution_count": 5,
   "id": "f0a1d60c",
   "metadata": {},
   "outputs": [
    {
     "data": {
      "text/plain": [
       "(532586, 2)"
      ]
     },
     "execution_count": 5,
     "metadata": {},
     "output_type": "execute_result"
    }
   ],
   "source": [
    "df_without_outliers = train_df[['DMBTR','WRBTR']].copy()\n",
    "\n",
    "Q1 = train_df[['DMBTR','WRBTR']].quantile(0.25)\n",
    "Q3 = train_df[['DMBTR','WRBTR']].quantile(0.75)\n",
    "IQR = Q3 - Q1\n",
    "\n",
    "lower_vals = (df_without_outliers < (Q1 - (1.5 * IQR)))\n",
    "upper_vals = (df_without_outliers > (Q3 + (1.5 * IQR)))\n",
    "\n",
    "df_without_outliers = df_without_outliers.mask(lower_vals, Q1, axis=1)\n",
    "df_without_outliers = df_without_outliers.mask(upper_vals, Q3, axis=1)\n",
    "df_without_outliers.shape"
   ]
  },
  {
   "cell_type": "code",
   "execution_count": 6,
   "id": "7569bc9b",
   "metadata": {},
   "outputs": [],
   "source": [
    "train_df = train_df.drop(['DMBTR','WRBTR'], axis=1)\n",
    "train_df = train_df.join(df_without_outliers, on='BELNR')"
   ]
  },
  {
   "cell_type": "code",
   "execution_count": 7,
   "id": "76327481",
   "metadata": {},
   "outputs": [],
   "source": [
    "y = train_df['label']\n",
    "X = train_df.drop('label', axis=1)\n",
    "\n",
    "X_anomalies = anomalies_df.drop('label', axis=1)\n",
    "y_anomalies = anomalies_df['label']"
   ]
  },
  {
   "cell_type": "code",
   "execution_count": 8,
   "id": "7f294f2a",
   "metadata": {},
   "outputs": [],
   "source": [
    "seed=42\n",
    "X_train, X_test_and_val, y_train, y_test_and_val = train_test_split(X, \n",
    "                                                                    y,\n",
    "                                                                    test_size=0.3, \n",
    "                                                                    random_state=seed)\n",
    "\n",
    "X_val, X_test_, y_val, y_test_ = train_test_split(X_test_and_val,\n",
    "                                                y_test_and_val,\n",
    "                                                test_size=0.5,\n",
    "                                                random_state=seed)"
   ]
  },
  {
   "cell_type": "code",
   "execution_count": 9,
   "id": "c8f8ea5a",
   "metadata": {},
   "outputs": [],
   "source": [
    "X_test = pd.concat([X_test_, X_anomalies])\n",
    "y_test = pd.concat([y_test_, y_anomalies])"
   ]
  },
  {
   "cell_type": "code",
   "execution_count": 10,
   "id": "9fead135",
   "metadata": {},
   "outputs": [],
   "source": [
    "scaler = MinMaxScaler()\n",
    "scaler.fit(X_train)\n",
    "X_train = scaler.transform(X_train)\n",
    "X_val = scaler.transform(X_val)\n",
    "X_test = scaler.transform(X_test)"
   ]
  },
  {
   "cell_type": "code",
   "execution_count": 11,
   "id": "bd28c1bf",
   "metadata": {},
   "outputs": [
    {
     "name": "stdout",
     "output_type": "stream",
     "text": [
      "Metal device set to: Apple M1\n"
     ]
    },
    {
     "name": "stderr",
     "output_type": "stream",
     "text": [
      "2022-08-07 23:11:24.486686: I tensorflow/core/common_runtime/pluggable_device/pluggable_device_factory.cc:305] Could not identify NUMA node of platform GPU ID 0, defaulting to 0. Your kernel may not have been built with NUMA support.\n",
      "2022-08-07 23:11:24.486839: I tensorflow/core/common_runtime/pluggable_device/pluggable_device_factory.cc:271] Created TensorFlow device (/job:localhost/replica:0/task:0/device:GPU:0 with 0 MB memory) -> physical PluggableDevice (device: 0, name: METAL, pci bus id: <undefined>)\n"
     ]
    }
   ],
   "source": [
    "input_img = keras.Input(shape=(X_train.shape[1]))\n",
    "encoded = layers.Dense(512, activation='relu')(input_img)\n",
    "encoded = layers.Dense(256, activation='relu')(encoded)\n",
    "encoded = layers.Dense(64, activation='relu')(encoded)\n",
    "\n",
    "decoded = layers.Dense(256, activation='relu')(encoded)\n",
    "decoded = layers.Dense(512, activation='relu')(decoded)\n",
    "decoded = layers.Dense(X_train.shape[1], activation='sigmoid')(decoded)\n",
    "\n",
    "autoencoder = keras.Model(input_img, decoded)"
   ]
  },
  {
   "cell_type": "code",
   "execution_count": 12,
   "id": "ac224350",
   "metadata": {},
   "outputs": [
    {
     "data": {
      "image/png": "[encoded data removed]",
      "text/plain": [
       "<IPython.core.display.Image object>"
      ]
     },
     "execution_count": 12,
     "metadata": {},
     "output_type": "execute_result"
    }
   ],
   "source": [
    "plot_model(autoencoder, show_shapes=True)"
   ]
  },
  {
   "cell_type": "code",
   "execution_count": 13,
   "id": "a62a4212",
   "metadata": {},
   "outputs": [],
   "source": [
    "earlystopping = callbacks.EarlyStopping(monitor =\"val_loss\",\n",
    "                                        mode =\"min\", \n",
    "                                        patience = 10, \n",
    "                                        restore_best_weights=True)"
   ]
  },
  {
   "cell_type": "code",
   "execution_count": 14,
   "id": "86184d39",
   "metadata": {},
   "outputs": [],
   "source": [
    "autoencoder.compile(optimizer=SGD(momentum=0.7), \n",
    "                  loss='mse')"
   ]
  },
  {
   "cell_type": "code",
   "execution_count": 15,
   "id": "3661c08c",
   "metadata": {},
   "outputs": [
    {
     "name": "stdout",
     "output_type": "stream",
     "text": [
      "Epoch 1/100\n"
     ]
    },
    {
     "name": "stderr",
     "output_type": "stream",
     "text": [
      "2022-08-07 23:11:25.115872: W tensorflow/core/platform/profile_utils/cpu_utils.cc:128] Failed to get CPU frequency: 0 Hz\n"
     ]
    },
    {
     "name": "stdout",
     "output_type": "stream",
     "text": [
      "   5/1457 [..............................] - ETA: 20s - loss: 0.2466  "
     ]
    },
    {
     "name": "stderr",
     "output_type": "stream",
     "text": [
      "2022-08-07 23:11:25.446872: I tensorflow/core/grappler/optimizers/custom_graph_optimizer_registry.cc:113] Plugin optimizer for device_type GPU is enabled.\n"
     ]
    },
    {
     "name": "stdout",
     "output_type": "stream",
     "text": [
      "1457/1457 [==============================] - ETA: 0s - loss: 0.1297"
     ]
    },
    {
     "name": "stderr",
     "output_type": "stream",
     "text": [
      "2022-08-07 23:11:47.571820: I tensorflow/core/grappler/optimizers/custom_graph_optimizer_registry.cc:113] Plugin optimizer for device_type GPU is enabled.\n"
     ]
    },
    {
     "name": "stdout",
     "output_type": "stream",
     "text": [
      "1457/1457 [==============================] - 26s 17ms/step - loss: 0.1297 - val_loss: 0.0100\n",
      "Epoch 2/100\n",
      "1457/1457 [==============================] - 25s 17ms/step - loss: 0.0087 - val_loss: 0.0083\n",
      "Epoch 3/100\n",
      "1457/1457 [==============================] - 24s 17ms/step - loss: 0.0081 - val_loss: 0.0080\n",
      "Epoch 4/100\n",
      "1457/1457 [==============================] - 27s 19ms/step - loss: 0.0079 - val_loss: 0.0078\n",
      "Epoch 5/100\n",
      "1457/1457 [==============================] - 30s 21ms/step - loss: 0.0076 - val_loss: 0.0075\n",
      "Epoch 6/100\n",
      "1457/1457 [==============================] - 36s 24ms/step - loss: 0.0073 - val_loss: 0.0072\n",
      "Epoch 7/100\n",
      "1457/1457 [==============================] - 38s 26ms/step - loss: 0.0070 - val_loss: 0.0068\n",
      "Epoch 8/100\n",
      "1457/1457 [==============================] - 39s 27ms/step - loss: 0.0065 - val_loss: 0.0061\n",
      "Epoch 9/100\n",
      "1457/1457 [==============================] - 32s 22ms/step - loss: 0.0057 - val_loss: 0.0053\n",
      "Epoch 10/100\n",
      "1457/1457 [==============================] - 29s 20ms/step - loss: 0.0049 - val_loss: 0.0046\n",
      "Epoch 11/100\n",
      "1457/1457 [==============================] - 28s 20ms/step - loss: 0.0043 - val_loss: 0.0041\n",
      "Epoch 12/100\n",
      "1457/1457 [==============================] - 32s 22ms/step - loss: 0.0039 - val_loss: 0.0038\n",
      "Epoch 13/100\n",
      "1457/1457 [==============================] - 33s 23ms/step - loss: 0.0037 - val_loss: 0.0036\n",
      "Epoch 14/100\n",
      "1457/1457 [==============================] - 32s 22ms/step - loss: 0.0035 - val_loss: 0.0034\n",
      "Epoch 15/100\n",
      "1457/1457 [==============================] - 34s 24ms/step - loss: 0.0033 - val_loss: 0.0032\n",
      "Epoch 16/100\n",
      "1457/1457 [==============================] - 33s 23ms/step - loss: 0.0031 - val_loss: 0.0030\n",
      "Epoch 17/100\n",
      "1457/1457 [==============================] - 33s 23ms/step - loss: 0.0028 - val_loss: 0.0027\n",
      "Epoch 18/100\n",
      "1457/1457 [==============================] - 32s 22ms/step - loss: 0.0026 - val_loss: 0.0025\n",
      "Epoch 19/100\n",
      "1457/1457 [==============================] - 32s 22ms/step - loss: 0.0024 - val_loss: 0.0023\n",
      "Epoch 20/100\n",
      "1457/1457 [==============================] - 32s 22ms/step - loss: 0.0022 - val_loss: 0.0021\n",
      "Epoch 21/100\n",
      "1457/1457 [==============================] - 32s 22ms/step - loss: 0.0020 - val_loss: 0.0019\n",
      "Epoch 22/100\n",
      "1457/1457 [==============================] - 32s 22ms/step - loss: 0.0018 - val_loss: 0.0018\n",
      "Epoch 23/100\n",
      "1457/1457 [==============================] - 37s 25ms/step - loss: 0.0017 - val_loss: 0.0017\n",
      "Epoch 24/100\n",
      "1457/1457 [==============================] - 36s 25ms/step - loss: 0.0016 - val_loss: 0.0016\n",
      "Epoch 25/100\n",
      "1457/1457 [==============================] - 35s 24ms/step - loss: 0.0016 - val_loss: 0.0015\n",
      "Epoch 26/100\n",
      "1457/1457 [==============================] - 33s 23ms/step - loss: 0.0015 - val_loss: 0.0015\n",
      "Epoch 27/100\n",
      "1457/1457 [==============================] - 35s 24ms/step - loss: 0.0015 - val_loss: 0.0015\n",
      "Epoch 28/100\n",
      "1457/1457 [==============================] - 33s 23ms/step - loss: 0.0015 - val_loss: 0.0015\n",
      "Epoch 29/100\n",
      "1457/1457 [==============================] - 33s 23ms/step - loss: 0.0014 - val_loss: 0.0014\n",
      "Epoch 30/100\n",
      "1457/1457 [==============================] - 33s 23ms/step - loss: 0.0014 - val_loss: 0.0014\n",
      "Epoch 31/100\n",
      "1457/1457 [==============================] - 33s 23ms/step - loss: 0.0014 - val_loss: 0.0014\n",
      "Epoch 32/100\n",
      "1457/1457 [==============================] - 32s 22ms/step - loss: 0.0014 - val_loss: 0.0014\n",
      "Epoch 33/100\n",
      "1457/1457 [==============================] - 33s 23ms/step - loss: 0.0014 - val_loss: 0.0014\n",
      "Epoch 34/100\n",
      "1457/1457 [==============================] - 33s 22ms/step - loss: 0.0014 - val_loss: 0.0014\n",
      "Epoch 35/100\n",
      "1457/1457 [==============================] - 32s 22ms/step - loss: 0.0014 - val_loss: 0.0014\n",
      "Epoch 36/100\n",
      "1457/1457 [==============================] - 32s 22ms/step - loss: 0.0014 - val_loss: 0.0014\n",
      "Epoch 37/100\n",
      "1457/1457 [==============================] - 33s 23ms/step - loss: 0.0014 - val_loss: 0.0014\n",
      "Epoch 38/100\n",
      "1457/1457 [==============================] - 33s 23ms/step - loss: 0.0014 - val_loss: 0.0014\n",
      "Epoch 39/100\n",
      "1457/1457 [==============================] - 34s 23ms/step - loss: 0.0014 - val_loss: 0.0014\n",
      "Epoch 40/100\n",
      "1457/1457 [==============================] - 34s 24ms/step - loss: 0.0013 - val_loss: 0.0013\n",
      "Epoch 41/100\n",
      "1457/1457 [==============================] - 35s 24ms/step - loss: 0.0013 - val_loss: 0.0013\n",
      "Epoch 42/100\n",
      "1457/1457 [==============================] - 34s 23ms/step - loss: 0.0013 - val_loss: 0.0013\n",
      "Epoch 43/100\n",
      "1457/1457 [==============================] - 33s 22ms/step - loss: 0.0013 - val_loss: 0.0013\n",
      "Epoch 44/100\n",
      "1457/1457 [==============================] - 32s 22ms/step - loss: 0.0013 - val_loss: 0.0013\n",
      "Epoch 45/100\n",
      "1457/1457 [==============================] - 33s 23ms/step - loss: 0.0013 - val_loss: 0.0013\n",
      "Epoch 46/100\n",
      "1457/1457 [==============================] - 33s 23ms/step - loss: 0.0013 - val_loss: 0.0013\n",
      "Epoch 47/100\n",
      "1457/1457 [==============================] - 33s 22ms/step - loss: 0.0013 - val_loss: 0.0013\n",
      "Epoch 48/100\n",
      "1457/1457 [==============================] - 33s 23ms/step - loss: 0.0013 - val_loss: 0.0013\n",
      "Epoch 49/100\n",
      "1457/1457 [==============================] - 19s 13ms/step - loss: 0.0013 - val_loss: 0.0013\n",
      "Epoch 50/100\n",
      "1457/1457 [==============================] - 12s 8ms/step - loss: 0.0013 - val_loss: 0.0013\n",
      "Epoch 51/100\n",
      "1457/1457 [==============================] - 11s 7ms/step - loss: 0.0013 - val_loss: 0.0013\n",
      "Epoch 52/100\n",
      "1457/1457 [==============================] - 11s 7ms/step - loss: 0.0012 - val_loss: 0.0012\n",
      "Epoch 53/100\n",
      "1457/1457 [==============================] - 11s 7ms/step - loss: 0.0012 - val_loss: 0.0012\n",
      "Epoch 54/100\n",
      "1457/1457 [==============================] - 11s 7ms/step - loss: 0.0012 - val_loss: 0.0012\n",
      "Epoch 55/100\n",
      "1457/1457 [==============================] - 11s 7ms/step - loss: 0.0012 - val_loss: 0.0012\n",
      "Epoch 56/100\n",
      "1457/1457 [==============================] - 11s 7ms/step - loss: 0.0012 - val_loss: 0.0012\n",
      "Epoch 57/100\n",
      "1457/1457 [==============================] - 11s 7ms/step - loss: 0.0012 - val_loss: 0.0012\n",
      "Epoch 58/100\n",
      "1457/1457 [==============================] - 11s 7ms/step - loss: 0.0012 - val_loss: 0.0012\n",
      "Epoch 59/100\n",
      "1457/1457 [==============================] - 11s 7ms/step - loss: 0.0012 - val_loss: 0.0012\n",
      "Epoch 60/100\n",
      "1457/1457 [==============================] - 11s 7ms/step - loss: 0.0011 - val_loss: 0.0011\n",
      "Epoch 61/100\n",
      "1457/1457 [==============================] - 11s 8ms/step - loss: 0.0011 - val_loss: 0.0011\n",
      "Epoch 62/100\n",
      "1457/1457 [==============================] - 11s 8ms/step - loss: 0.0011 - val_loss: 0.0011\n",
      "Epoch 63/100\n",
      "1457/1457 [==============================] - 11s 8ms/step - loss: 0.0011 - val_loss: 0.0011\n",
      "Epoch 64/100\n",
      "1457/1457 [==============================] - 11s 7ms/step - loss: 0.0011 - val_loss: 0.0011\n",
      "Epoch 65/100\n",
      "1457/1457 [==============================] - 11s 7ms/step - loss: 0.0010 - val_loss: 0.0010\n",
      "Epoch 66/100\n",
      "1457/1457 [==============================] - 11s 8ms/step - loss: 0.0010 - val_loss: 0.0010\n",
      "Epoch 67/100\n",
      "1457/1457 [==============================] - 11s 8ms/step - loss: 9.9941e-04 - val_loss: 9.9158e-04\n",
      "Epoch 68/100\n",
      "1457/1457 [==============================] - 11s 8ms/step - loss: 9.7320e-04 - val_loss: 9.6478e-04\n",
      "Epoch 69/100\n",
      "1457/1457 [==============================] - 11s 7ms/step - loss: 9.4591e-04 - val_loss: 9.3665e-04\n",
      "Epoch 70/100\n",
      "1457/1457 [==============================] - 11s 7ms/step - loss: 9.1739e-04 - val_loss: 9.0779e-04\n",
      "Epoch 71/100\n",
      "1457/1457 [==============================] - 11s 7ms/step - loss: 8.8832e-04 - val_loss: 8.7853e-04\n",
      "Epoch 72/100\n",
      "1457/1457 [==============================] - 11s 7ms/step - loss: 8.5866e-04 - val_loss: 8.4873e-04\n",
      "Epoch 73/100\n",
      "1457/1457 [==============================] - 11s 7ms/step - loss: 8.2889e-04 - val_loss: 8.1889e-04\n",
      "Epoch 74/100\n",
      "1457/1457 [==============================] - 11s 7ms/step - loss: 7.9918e-04 - val_loss: 7.8927e-04\n",
      "Epoch 75/100\n",
      "1457/1457 [==============================] - 11s 7ms/step - loss: 7.6963e-04 - val_loss: 7.5980e-04\n",
      "Epoch 76/100\n",
      "1457/1457 [==============================] - 11s 8ms/step - loss: 7.4026e-04 - val_loss: 7.3039e-04\n",
      "Epoch 77/100\n",
      "1457/1457 [==============================] - 11s 7ms/step - loss: 7.1134e-04 - val_loss: 7.0189e-04\n"
     ]
    },
    {
     "name": "stdout",
     "output_type": "stream",
     "text": [
      "Epoch 78/100\n",
      "1457/1457 [==============================] - 11s 8ms/step - loss: 6.8328e-04 - val_loss: 6.7405e-04\n",
      "Epoch 79/100\n",
      "1457/1457 [==============================] - 11s 8ms/step - loss: 6.5604e-04 - val_loss: 6.4725e-04\n",
      "Epoch 80/100\n",
      "1457/1457 [==============================] - 11s 8ms/step - loss: 6.2961e-04 - val_loss: 6.2108e-04\n",
      "Epoch 81/100\n",
      "1457/1457 [==============================] - 11s 8ms/step - loss: 6.0332e-04 - val_loss: 5.9496e-04\n",
      "Epoch 82/100\n",
      "1457/1457 [==============================] - 11s 8ms/step - loss: 5.7797e-04 - val_loss: 5.6971e-04\n",
      "Epoch 83/100\n",
      "1457/1457 [==============================] - 11s 8ms/step - loss: 5.5298e-04 - val_loss: 5.4473e-04\n",
      "Epoch 84/100\n",
      "1457/1457 [==============================] - 11s 7ms/step - loss: 5.2770e-04 - val_loss: 5.1943e-04\n",
      "Epoch 85/100\n",
      "1457/1457 [==============================] - 11s 8ms/step - loss: 5.0276e-04 - val_loss: 4.9425e-04\n",
      "Epoch 86/100\n",
      "1457/1457 [==============================] - 11s 8ms/step - loss: 4.7799e-04 - val_loss: 4.6942e-04\n",
      "Epoch 87/100\n",
      "1457/1457 [==============================] - 12s 8ms/step - loss: 4.5321e-04 - val_loss: 4.4416e-04\n",
      "Epoch 88/100\n",
      "1457/1457 [==============================] - 11s 8ms/step - loss: 4.2816e-04 - val_loss: 4.1935e-04\n",
      "Epoch 89/100\n",
      "1457/1457 [==============================] - 11s 8ms/step - loss: 4.0412e-04 - val_loss: 3.9601e-04\n",
      "Epoch 90/100\n",
      "1457/1457 [==============================] - 12s 8ms/step - loss: 3.8151e-04 - val_loss: 3.7386e-04\n",
      "Epoch 91/100\n",
      "1457/1457 [==============================] - 11s 8ms/step - loss: 3.6012e-04 - val_loss: 3.5309e-04\n",
      "Epoch 92/100\n",
      "1457/1457 [==============================] - 11s 7ms/step - loss: 3.4012e-04 - val_loss: 3.3364e-04\n",
      "Epoch 93/100\n",
      "1457/1457 [==============================] - 12s 8ms/step - loss: 3.2127e-04 - val_loss: 3.1545e-04\n",
      "Epoch 94/100\n",
      "1457/1457 [==============================] - 11s 8ms/step - loss: 3.0458e-04 - val_loss: 2.9993e-04\n",
      "Epoch 95/100\n",
      "1457/1457 [==============================] - 11s 8ms/step - loss: 2.9009e-04 - val_loss: 2.8629e-04\n",
      "Epoch 96/100\n",
      "1457/1457 [==============================] - 11s 8ms/step - loss: 2.7739e-04 - val_loss: 2.7438e-04\n",
      "Epoch 97/100\n",
      "1457/1457 [==============================] - 11s 8ms/step - loss: 2.6638e-04 - val_loss: 2.6409e-04\n",
      "Epoch 98/100\n",
      "1457/1457 [==============================] - 11s 8ms/step - loss: 2.5689e-04 - val_loss: 2.5528e-04\n",
      "Epoch 99/100\n",
      "1457/1457 [==============================] - 11s 8ms/step - loss: 2.4875e-04 - val_loss: 2.4772e-04\n",
      "Epoch 100/100\n",
      "1457/1457 [==============================] - 11s 8ms/step - loss: 2.4180e-04 - val_loss: 2.4125e-04\n"
     ]
    }
   ],
   "source": [
    "history = autoencoder.fit(X_train, X_train,\n",
    "                epochs=100,\n",
    "                batch_size=256,\n",
    "                callbacks=[earlystopping],\n",
    "                validation_data=(X_val, X_val))"
   ]
  },
  {
   "cell_type": "code",
   "execution_count": 16,
   "id": "ee855973",
   "metadata": {},
   "outputs": [
    {
     "name": "stderr",
     "output_type": "stream",
     "text": [
      "2022-08-07 23:47:14.063352: I tensorflow/core/grappler/optimizers/custom_graph_optimizer_registry.cc:113] Plugin optimizer for device_type GPU is enabled.\n"
     ]
    }
   ],
   "source": [
    "X_train_pred = autoencoder.predict(X_train)\n",
    "train_mae_loss = np.mean(np.abs(X_train_pred - X_train), axis=1)"
   ]
  },
  {
   "cell_type": "code",
   "execution_count": 17,
   "id": "0e233c9c",
   "metadata": {},
   "outputs": [
    {
     "data": {
      "image/png": "[encoded data removed]",
      "text/plain": [
       "<Figure size 432x288 with 1 Axes>"
      ]
     },
     "metadata": {
      "needs_background": "light"
     },
     "output_type": "display_data"
    },
    {
     "name": "stdout",
     "output_type": "stream",
     "text": [
      "Error threshold:  0.025024501651566635\n"
     ]
    }
   ],
   "source": [
    "plt.hist(train_mae_loss)\n",
    "plt.xlabel(\"Train MAE loss\")\n",
    "plt.ylabel(\"No of samples\")\n",
    "plt.show()\n",
    "\n",
    "threshold = np.max(train_mae_loss)\n",
    "print(\"Error threshold: \", threshold)"
   ]
  },
  {
   "cell_type": "code",
   "execution_count": 18,
   "id": "914b63b9",
   "metadata": {},
   "outputs": [],
   "source": [
    "X_test_pred = autoencoder.predict(X_test)\n",
    "test_mae_loss = np.mean(np.abs(X_test_pred - X_test), axis=1)\n",
    "test_mae_loss = test_mae_loss.reshape((-1))"
   ]
  },
  {
   "cell_type": "code",
   "execution_count": 19,
   "id": "a948633f",
   "metadata": {},
   "outputs": [
    {
     "name": "stdout",
     "output_type": "stream",
     "text": [
      "Number of abnormal samples:  70\n"
     ]
    }
   ],
   "source": [
    "anomalies = test_mae_loss > threshold\n",
    "y_pred = np.where(test_mae_loss > threshold, 1, 0)\n",
    "\n",
    "print(\"Number of abnormal samples: \", np.sum(anomalies))"
   ]
  },
  {
   "cell_type": "code",
   "execution_count": 20,
   "id": "102182e5",
   "metadata": {},
   "outputs": [
    {
     "name": "stdout",
     "output_type": "stream",
     "text": [
      "AUCPRC: 0.7003750562584388\n",
      "precision: 0.9998123076153057\n",
      "recall: 0.85\n",
      "f1 score: 0.9116708420724835\n"
     ]
    }
   ],
   "source": [
    "evaluate_model(y_test, y_pred)"
   ]
  },
  {
   "cell_type": "code",
   "execution_count": 21,
   "id": "df0f3b25",
   "metadata": {},
   "outputs": [
    {
     "data": {
      "image/png": "[encoded data removed]",
      "text/plain": [
       "<Figure size 360x360 with 2 Axes>"
      ]
     },
     "metadata": {
      "needs_background": "light"
     },
     "output_type": "display_data"
    }
   ],
   "source": [
    "plot_cm(y_test, y_pred)"
   ]
  },
  {
   "cell_type": "code",
   "execution_count": 22,
   "id": "6748039c",
   "metadata": {},
   "outputs": [
    {
     "name": "stderr",
     "output_type": "stream",
     "text": [
      "No artists with labels found to put in legend.  Note that artists whose label start with an underscore are ignored when legend() is called with no argument.\n"
     ]
    },
    {
     "data": {
      "image/png": "[encoded data removed]",
      "text/plain": [
       "<Figure size 432x288 with 1 Axes>"
      ]
     },
     "metadata": {
      "needs_background": "light"
     },
     "output_type": "display_data"
    }
   ],
   "source": [
    "plt.plot(history.history['loss'])\n",
    "plt.plot(history.history['val_loss'])\n",
    "plt.xlabel('Epochs')\n",
    "plt.ylabel('Loss')\n",
    "plt.legend()\n",
    "plt.show()"
   ]
  }
 ],
 "metadata": {
  "kernelspec": {
   "display_name": "tensorflow",
   "language": "python",
   "name": "tensorflow"
  },
  "language_info": {
   "codemirror_mode": {
    "name": "ipython",
    "version": 3
   },
   "file_extension": ".py",
   "mimetype": "text/x-python",
   "name": "python",
   "nbconvert_exporter": "python",
   "pygments_lexer": "ipython3",
   "version": "3.9.5"
  }
 },
 "nbformat": 4,
 "nbformat_minor": 5
}
